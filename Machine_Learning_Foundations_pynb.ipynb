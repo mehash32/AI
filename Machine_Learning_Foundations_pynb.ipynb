{
  "nbformat": 4,
  "nbformat_minor": 0,
  "metadata": {
    "colab": {
      "name": "Machine Learning Foundations.pynb",
      "provenance": [],
      "authorship_tag": "ABX9TyP7Pd96esU2ghUPyGYRl9v7",
      "include_colab_link": true
    },
    "kernelspec": {
      "name": "python3",
      "display_name": "Python 3"
    }
  },
  "cells": [
    {
      "cell_type": "markdown",
      "metadata": {
        "id": "view-in-github",
        "colab_type": "text"
      },
      "source": [
        "<a href=\"https://colab.research.google.com/github/rakib06/AI/blob/master/Machine_Learning_Foundations_pynb.ipynb\" target=\"_parent\"><img src=\"https://colab.research.google.com/assets/colab-badge.svg\" alt=\"Open In Colab\"/></a>"
      ]
    },
    {
      "cell_type": "markdown",
      "metadata": {
        "id": "KdDpkcJ6G09m"
      },
      "source": [
        "# Ep -1. What is ML?"
      ]
    },
    {
      "cell_type": "code",
      "metadata": {
        "id": "hawly4v_G0Y9"
      },
      "source": [
        ""
      ],
      "execution_count": null,
      "outputs": []
    },
    {
      "cell_type": "code",
      "metadata": {
        "id": "nFopS2CCGy6A"
      },
      "source": [
        ""
      ],
      "execution_count": null,
      "outputs": []
    }
  ]
}